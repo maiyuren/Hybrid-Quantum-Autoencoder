{
 "cells": [
  {
   "cell_type": "code",
   "execution_count": 2,
   "id": "bd9a89f5",
   "metadata": {},
   "outputs": [
    {
     "name": "stderr",
     "output_type": "stream",
     "text": [
      "/home/maiyuren/anaconda3/envs/quantum_computing/lib/python3.7/site-packages/qiskit/validation/fields/custom.py:76: DeprecationWarning: `np.float` is a deprecated alias for the builtin `float`. To silence this warning, use `float` by itself. Doing this will not modify any behavior and is safe. If you specifically wanted the numpy scalar type, use `np.float64` here.\n",
      "Deprecated in NumPy 1.20; for more details and guidance: https://numpy.org/devdocs/release/1.20.0-notes.html#deprecations\n",
      "  numpy.integer, numpy.float,\n"
     ]
    },
    {
     "name": "stdout",
     "output_type": "stream",
     "text": [
      "Taking 5 qubits\n",
      "No such device.\n",
      "Availability of gpu: False\n"
     ]
    }
   ],
   "source": [
    "import matplotlib.pyplot as plt\n",
    "import pickle\n",
    "import pandas as pd\n",
    "import numpy as np\n",
    "from heisenberg_hqa import run_heisenberg_hqa_from_datafile, datafile_to_dataframe, test_hqa\n",
    "import seaborn as sns"
   ]
  },
  {
   "cell_type": "markdown",
   "id": "9663d041",
   "metadata": {},
   "source": [
    "### Load Data"
   ]
  },
  {
   "cell_type": "code",
   "execution_count": 123,
   "id": "74395b31",
   "metadata": {},
   "outputs": [],
   "source": [
    "# Loading data\n",
    "data = datafile_to_dataframe(\"state_files/data_n_qubits-6.pkl\")\n",
    "data = data[data.depth==4]\n",
    "distributions = np.array(data.statevector.to_list())\n",
    "characteristics = np.array([[j]+ i for i, j in zip(data.Jlist.tolist(), data.depth.tolist())])"
   ]
  },
  {
   "cell_type": "markdown",
   "id": "33515e11",
   "metadata": {},
   "source": [
    "## Train model"
   ]
  },
  {
   "cell_type": "code",
   "execution_count": 12,
   "id": "a22834b1",
   "metadata": {
    "collapsed": true
   },
   "outputs": [
    {
     "ename": "FileNotFoundError",
     "evalue": "[Errno 2] No such file or directory: 'data.pkl'",
     "output_type": "error",
     "traceback": [
      "\u001b[0;31m---------------------------------------------------------------------------\u001b[0m",
      "\u001b[0;31mFileNotFoundError\u001b[0m                         Traceback (most recent call last)",
      "\u001b[0;32m<ipython-input-12-5769e5097dd3>\u001b[0m in \u001b[0;36m<module>\u001b[0;34m\u001b[0m\n\u001b[0;32m----> 1\u001b[0;31m \u001b[0mmodel\u001b[0m \u001b[0;34m=\u001b[0m \u001b[0mrun_heisenberg_hqa_from_datafile\u001b[0m\u001b[0;34m(\u001b[0m\u001b[0;34m\"data.pkl\"\u001b[0m\u001b[0;34m)\u001b[0m\u001b[0;34m\u001b[0m\u001b[0;34m\u001b[0m\u001b[0m\n\u001b[0m",
      "\u001b[0;32m/mnt/c/Users/maiyu/PycharmProjects/quantum_computing/Hybrid-Quantum-Autoencoder/heisenberg/heisenberg_hqa.py\u001b[0m in \u001b[0;36mrun_heisenberg_hqa_from_datafile\u001b[0;34m(filename)\u001b[0m\n\u001b[1;32m     60\u001b[0m \u001b[0;34m\u001b[0m\u001b[0m\n\u001b[1;32m     61\u001b[0m \u001b[0;32mdef\u001b[0m \u001b[0mrun_heisenberg_hqa_from_datafile\u001b[0m\u001b[0;34m(\u001b[0m\u001b[0mfilename\u001b[0m\u001b[0;34m)\u001b[0m\u001b[0;34m:\u001b[0m\u001b[0;34m\u001b[0m\u001b[0;34m\u001b[0m\u001b[0m\n\u001b[0;32m---> 62\u001b[0;31m     \u001b[0mdata\u001b[0m \u001b[0;34m=\u001b[0m \u001b[0mdatafile_to_dataframe\u001b[0m\u001b[0;34m(\u001b[0m\u001b[0mfilename\u001b[0m\u001b[0;34m)\u001b[0m\u001b[0;34m\u001b[0m\u001b[0;34m\u001b[0m\u001b[0m\n\u001b[0m\u001b[1;32m     63\u001b[0m     \u001b[0mdistributions\u001b[0m \u001b[0;34m=\u001b[0m \u001b[0mnp\u001b[0m\u001b[0;34m.\u001b[0m\u001b[0marray\u001b[0m\u001b[0;34m(\u001b[0m\u001b[0mdata\u001b[0m\u001b[0;34m.\u001b[0m\u001b[0mstatevector\u001b[0m\u001b[0;34m.\u001b[0m\u001b[0mto_list\u001b[0m\u001b[0;34m(\u001b[0m\u001b[0;34m)\u001b[0m\u001b[0;34m)\u001b[0m\u001b[0;34m\u001b[0m\u001b[0;34m\u001b[0m\u001b[0m\n\u001b[1;32m     64\u001b[0m \u001b[0;34m\u001b[0m\u001b[0m\n",
      "\u001b[0;32m/mnt/c/Users/maiyu/PycharmProjects/quantum_computing/Hybrid-Quantum-Autoencoder/heisenberg/heisenberg_hqa.py\u001b[0m in \u001b[0;36mdatafile_to_dataframe\u001b[0;34m(filename)\u001b[0m\n\u001b[1;32m     31\u001b[0m \u001b[0;32mdef\u001b[0m \u001b[0mdatafile_to_dataframe\u001b[0m\u001b[0;34m(\u001b[0m\u001b[0mfilename\u001b[0m\u001b[0;34m)\u001b[0m\u001b[0;34m:\u001b[0m\u001b[0;34m\u001b[0m\u001b[0;34m\u001b[0m\u001b[0m\n\u001b[1;32m     32\u001b[0m \u001b[0;34m\u001b[0m\u001b[0m\n\u001b[0;32m---> 33\u001b[0;31m     \u001b[0;32mwith\u001b[0m \u001b[0mopen\u001b[0m\u001b[0;34m(\u001b[0m\u001b[0mfilename\u001b[0m\u001b[0;34m,\u001b[0m \u001b[0;34m\"rb\"\u001b[0m\u001b[0;34m)\u001b[0m \u001b[0;32mas\u001b[0m \u001b[0mf\u001b[0m\u001b[0;34m:\u001b[0m\u001b[0;34m\u001b[0m\u001b[0;34m\u001b[0m\u001b[0m\n\u001b[0m\u001b[1;32m     34\u001b[0m         \u001b[0mdata\u001b[0m \u001b[0;34m=\u001b[0m \u001b[0mpickle\u001b[0m\u001b[0;34m.\u001b[0m\u001b[0mload\u001b[0m\u001b[0;34m(\u001b[0m\u001b[0mf\u001b[0m\u001b[0;34m)\u001b[0m\u001b[0;34m\u001b[0m\u001b[0;34m\u001b[0m\u001b[0m\n\u001b[1;32m     35\u001b[0m \u001b[0;34m\u001b[0m\u001b[0m\n",
      "\u001b[0;31mFileNotFoundError\u001b[0m: [Errno 2] No such file or directory: 'data.pkl'"
     ]
    }
   ],
   "source": [
    "model = run_heisenberg_hqa_from_datafile(\"data.pkl\")"
   ]
  },
  {
   "cell_type": "markdown",
   "id": "c3da3ef2",
   "metadata": {},
   "source": [
    "## Load model"
   ]
  },
  {
   "cell_type": "code",
   "execution_count": 14,
   "id": "cc838e70",
   "metadata": {},
   "outputs": [],
   "source": [
    "filename = \"pickled_models/hqa_model_ver_1.pickle\"\n",
    "with open(filename, \"rb\") as f:\n",
    "    model = pickle.load(f)\n",
    "model.reset_q_circs()"
   ]
  },
  {
   "cell_type": "markdown",
   "id": "d2f7123d",
   "metadata": {},
   "source": [
    "# Analysis"
   ]
  },
  {
   "cell_type": "code",
   "execution_count": 124,
   "id": "9cae1fd5",
   "metadata": {},
   "outputs": [
    {
     "name": "stderr",
     "output_type": "stream",
     "text": [
      "100%|██████████| 50/50 [00:06<00:00,  8.21it/s]"
     ]
    },
    {
     "name": "stdout",
     "output_type": "stream",
     "text": [
      "Average Loss: 0.0001087825987198398\n"
     ]
    },
    {
     "name": "stderr",
     "output_type": "stream",
     "text": [
      "\n"
     ]
    }
   ],
   "source": [
    "# Testing the HQA\n",
    "test_results = test_hqa(model, 50, distributions)"
   ]
  },
  {
   "cell_type": "code",
   "execution_count": 129,
   "id": "bb75c22d",
   "metadata": {
    "scrolled": true
   },
   "outputs": [
    {
     "name": "stderr",
     "output_type": "stream",
     "text": [
      "10it [00:00, 21.64it/s]\n"
     ]
    },
    {
     "name": "stdout",
     "output_type": "stream",
     "text": [
      "Variance explained by each principal component:\n",
      "[95.19374361378642, 4.7439586351790775, 0.062273748247549505, 2.3955582695563814e-05, 4.1698861563197686e-08, 5.3605723482813505e-09, 1.3877861015973193e-10, 6.053038086635544e-12]\n",
      "\n"
     ]
    }
   ],
   "source": [
    "# Creating the vectors\n",
    "model.create_latent_vectors(distributions, characteristics)\n",
    "model.pca_transform_latent_vectors(3, True)\n",
    "model.dataframe_latent_points('heisenberg')\n",
    "model.latent_landscape(0,1)"
   ]
  },
  {
   "cell_type": "code",
   "execution_count": 134,
   "id": "6d277bca",
   "metadata": {},
   "outputs": [
    {
     "data": {
      "image/png": "[encoded data removed]",
      "text/plain": [
       "<Figure size 864x360 with 2 Axes>"
      ]
     },
     "metadata": {
      "needs_background": "light"
     },
     "output_type": "display_data"
    }
   ],
   "source": [
    "fig, axs = plt.subplots(1,2, figsize=(12,5))\n",
    "ax = sns.scatterplot(x=\"p1\", y=\"p2\", hue='c5', data=model.df_latent_vectors, ax=axs[0])\n",
    "ax = sns.scatterplot(x=\"p1\", y=\"p2\", hue='c1', data=model.df_latent_vectors, ax=axs[1])"
   ]
  },
  {
   "cell_type": "code",
   "execution_count": 36,
   "id": "8443da34",
   "metadata": {},
   "outputs": [
    {
     "data": {
      "text/html": [
       "<div>\n",
       "<style scoped>\n",
       "    .dataframe tbody tr th:only-of-type {\n",
       "        vertical-align: middle;\n",
       "    }\n",
       "\n",
       "    .dataframe tbody tr th {\n",
       "        vertical-align: top;\n",
       "    }\n",
       "\n",
       "    .dataframe thead th {\n",
       "        text-align: right;\n",
       "    }\n",
       "</style>\n",
       "<table border=\"1\" class=\"dataframe\">\n",
       "  <thead>\n",
       "    <tr style=\"text-align: right;\">\n",
       "      <th></th>\n",
       "      <th>depth</th>\n",
       "      <th>ham_indx</th>\n",
       "      <th>latent_vector</th>\n",
       "      <th>p1</th>\n",
       "      <th>p2</th>\n",
       "    </tr>\n",
       "  </thead>\n",
       "  <tbody>\n",
       "    <tr>\n",
       "      <th>0</th>\n",
       "      <td>1.0</td>\n",
       "      <td>0.52961</td>\n",
       "      <td>[-1.9222362, 0.01785163, -0.0006903503]</td>\n",
       "      <td>-1.922236</td>\n",
       "      <td>0.017852</td>\n",
       "    </tr>\n",
       "    <tr>\n",
       "      <th>1</th>\n",
       "      <td>2.0</td>\n",
       "      <td>0.52961</td>\n",
       "      <td>[-1.9054637, 0.01621604, -0.00043154572]</td>\n",
       "      <td>-1.905464</td>\n",
       "      <td>0.016216</td>\n",
       "    </tr>\n",
       "    <tr>\n",
       "      <th>2</th>\n",
       "      <td>3.0</td>\n",
       "      <td>0.52961</td>\n",
       "      <td>[-1.9054644, 0.016216172, -0.00043173207]</td>\n",
       "      <td>-1.905464</td>\n",
       "      <td>0.016216</td>\n",
       "    </tr>\n",
       "    <tr>\n",
       "      <th>3</th>\n",
       "      <td>4.0</td>\n",
       "      <td>0.52961</td>\n",
       "      <td>[-1.9054565, 0.016215526, -0.00043136193]</td>\n",
       "      <td>-1.905457</td>\n",
       "      <td>0.016216</td>\n",
       "    </tr>\n",
       "    <tr>\n",
       "      <th>4</th>\n",
       "      <td>5.0</td>\n",
       "      <td>0.52961</td>\n",
       "      <td>[-1.9054573, 0.016215445, -0.0004314605]</td>\n",
       "      <td>-1.905457</td>\n",
       "      <td>0.016215</td>\n",
       "    </tr>\n",
       "    <tr>\n",
       "      <th>...</th>\n",
       "      <td>...</td>\n",
       "      <td>...</td>\n",
       "      <td>...</td>\n",
       "      <td>...</td>\n",
       "      <td>...</td>\n",
       "    </tr>\n",
       "    <tr>\n",
       "      <th>95</th>\n",
       "      <td>1.0</td>\n",
       "      <td>0.42629</td>\n",
       "      <td>[2.043962, 0.012561013, 0.0016336389]</td>\n",
       "      <td>2.043962</td>\n",
       "      <td>0.012561</td>\n",
       "    </tr>\n",
       "    <tr>\n",
       "      <th>96</th>\n",
       "      <td>2.0</td>\n",
       "      <td>0.42629</td>\n",
       "      <td>[1.8132207, 0.009912527, -0.001588899]</td>\n",
       "      <td>1.813221</td>\n",
       "      <td>0.009913</td>\n",
       "    </tr>\n",
       "    <tr>\n",
       "      <th>97</th>\n",
       "      <td>3.0</td>\n",
       "      <td>0.42629</td>\n",
       "      <td>[1.8132176, 0.009912379, -0.001589098]</td>\n",
       "      <td>1.813218</td>\n",
       "      <td>0.009912</td>\n",
       "    </tr>\n",
       "    <tr>\n",
       "      <th>98</th>\n",
       "      <td>4.0</td>\n",
       "      <td>0.42629</td>\n",
       "      <td>[1.8132205, 0.009912504, -0.0015888693]</td>\n",
       "      <td>1.813221</td>\n",
       "      <td>0.009913</td>\n",
       "    </tr>\n",
       "    <tr>\n",
       "      <th>99</th>\n",
       "      <td>5.0</td>\n",
       "      <td>0.42629</td>\n",
       "      <td>[1.8132159, 0.009912551, -0.0015889468]</td>\n",
       "      <td>1.813216</td>\n",
       "      <td>0.009913</td>\n",
       "    </tr>\n",
       "  </tbody>\n",
       "</table>\n",
       "<p>100 rows × 5 columns</p>\n",
       "</div>"
      ],
      "text/plain": [
       "    depth  ham_indx                              latent_vector        p1  \\\n",
       "0     1.0   0.52961    [-1.9222362, 0.01785163, -0.0006903503] -1.922236   \n",
       "1     2.0   0.52961   [-1.9054637, 0.01621604, -0.00043154572] -1.905464   \n",
       "2     3.0   0.52961  [-1.9054644, 0.016216172, -0.00043173207] -1.905464   \n",
       "3     4.0   0.52961  [-1.9054565, 0.016215526, -0.00043136193] -1.905457   \n",
       "4     5.0   0.52961   [-1.9054573, 0.016215445, -0.0004314605] -1.905457   \n",
       "..    ...       ...                                        ...       ...   \n",
       "95    1.0   0.42629      [2.043962, 0.012561013, 0.0016336389]  2.043962   \n",
       "96    2.0   0.42629     [1.8132207, 0.009912527, -0.001588899]  1.813221   \n",
       "97    3.0   0.42629     [1.8132176, 0.009912379, -0.001589098]  1.813218   \n",
       "98    4.0   0.42629    [1.8132205, 0.009912504, -0.0015888693]  1.813221   \n",
       "99    5.0   0.42629    [1.8132159, 0.009912551, -0.0015889468]  1.813216   \n",
       "\n",
       "          p2  \n",
       "0   0.017852  \n",
       "1   0.016216  \n",
       "2   0.016216  \n",
       "3   0.016216  \n",
       "4   0.016215  \n",
       "..       ...  \n",
       "95  0.012561  \n",
       "96  0.009913  \n",
       "97  0.009912  \n",
       "98  0.009913  \n",
       "99  0.009913  \n",
       "\n",
       "[100 rows x 5 columns]"
      ]
     },
     "execution_count": 36,
     "metadata": {},
     "output_type": "execute_result"
    }
   ],
   "source": [
    "model.df_latent_vectors"
   ]
  },
  {
   "cell_type": "markdown",
   "id": "4d46eaac",
   "metadata": {},
   "source": [
    "# Regression Analysis"
   ]
  },
  {
   "cell_type": "code",
   "execution_count": 79,
   "id": "af16a97f",
   "metadata": {},
   "outputs": [],
   "source": [
    "from sklearn.linear_model import LinearRegression\n",
    "from sklearn import svm\n",
    "from sklearn.linear_model import Ridge\n",
    "from sklearn.model_selection import train_test_split"
   ]
  },
  {
   "cell_type": "code",
   "execution_count": 121,
   "id": "78c9a503",
   "metadata": {},
   "outputs": [],
   "source": [
    "X = model.latent_vectors\n",
    "y = characteristics[:, 2]\n",
    "X, X_test, y, y_test = train_test_split(X, y, test_size=0.3)\n",
    "\n",
    "# Models\n",
    "reg_lin = LinearRegression().fit(X, y)\n",
    "reg_svm = svm.SVR().fit(X, y)\n",
    "reg_ridge = Ridge(alpha=0.1).fit(X, y)"
   ]
  },
  {
   "cell_type": "code",
   "execution_count": 122,
   "id": "e0adece8",
   "metadata": {},
   "outputs": [
    {
     "name": "stdout",
     "output_type": "stream",
     "text": [
      "Linear reg score = 0.4508311580245392\n",
      "SVM reg score    = -0.0032948205076288595\n",
      "Ridge reg score  = 0.02291621531842225\n"
     ]
    }
   ],
   "source": [
    "print(\"Linear reg score =\", reg_lin.score(X_test, y_test))\n",
    "print(\"SVM reg score    =\", reg_svm.score(X_test, y_test))\n",
    "print(\"Ridge reg score  =\", reg_ridge.score(X_test, y_test))"
   ]
  },
  {
   "cell_type": "code",
   "execution_count": 52,
   "id": "0b445b03",
   "metadata": {},
   "outputs": [
    {
     "name": "stdout",
     "output_type": "stream",
     "text": [
      "actual, predictied\n"
     ]
    },
    {
     "data": {
      "text/plain": [
       "[(0.5296100742654171, 0.5389404),\n",
       " (0.7783281108411285, 0.70129395),\n",
       " (0.23226337576073464, 0.34033203),\n",
       " (0.07216614826370105, 0.21789551),\n",
       " (0.4559811676937289, 0.6052246),\n",
       " (0.32062614689725544, 0.5789795),\n",
       " (0.06958569965991313, 0.012207031),\n",
       " (0.873196809831442, 0.8031006),\n",
       " (0.9372647939470479, 0.6647949),\n",
       " (0.2616804816777185, 0.6107178),\n",
       " (0.0125955578039455, -0.012329102),\n",
       " (0.9552008424902976, 0.6972656),\n",
       " (0.6214749208688178, 0.65966797),\n",
       " (0.19446018303289425, 0.37243652),\n",
       " (0.042205403849355894, 0.43359375),\n",
       " (0.3490034928844965, 0.31982422),\n",
       " (0.8614392050149691, 0.70654297),\n",
       " (0.5270164644173145, 0.72717285),\n",
       " (0.34069955879817426, 0.42077637),\n",
       " (0.4262896323332468, 0.390625),\n",
       " (0.1681441080260423, 0.34240723),\n",
       " (0.25466053043094183, 0.18127441),\n",
       " (0.7896891717173742, 0.63720703),\n",
       " (0.1805690479099914, 0.12390137),\n",
       " (0.9097741063764532, 0.7327881),\n",
       " (0.54258746548596, 0.4798584),\n",
       " (0.9164898730842643, 0.6879883),\n",
       " (0.0961329153660545, 0.05053711),\n",
       " (0.25027538382481285, 0.3656006),\n",
       " (0.15428517042427659, 0.2064209),\n",
       " (0.47774391719331755, 0.64282227),\n",
       " (0.6883479965056358, 0.47912598),\n",
       " (0.5708301344991504, 0.6121826),\n",
       " (0.6549561895155588, 0.49365234),\n",
       " (0.15289698756430725, 0.23901367),\n",
       " (0.5051717211776088, 0.41271973),\n",
       " (0.8795784622187278, 0.62976074),\n",
       " (0.38495576278054844, 0.3116455),\n",
       " (0.7631588943754732, 0.6645508),\n",
       " (0.048415109139524515, 0.21228027),\n",
       " (0.336658365320761, 0.56433105),\n",
       " (0.3415123794189633, 0.2529297),\n",
       " (0.7358188597907683, 0.67626953),\n",
       " (0.23523818111197892, 0.3433838),\n",
       " (0.1360589937398733, 0.1586914),\n",
       " (0.23295788942812967, 0.6989746),\n",
       " (0.964833166614905, 0.57751465),\n",
       " (0.1579202482951534, 0.22485352),\n",
       " (0.5798621836450628, 0.81726074),\n",
       " (0.8377188713412491, 0.48327637),\n",
       " (0.359665702177013, 0.6414795),\n",
       " (0.35196913339190017, 0.21459961),\n",
       " (0.3431787054563078, 0.33117676),\n",
       " (0.04459334234895085, 0.110839844),\n",
       " (0.6756854904743792, 0.67041016),\n",
       " (0.6679069855327081, 0.59936523),\n",
       " (0.5759952246818346, 0.64746094),\n",
       " (0.8023256745326489, 0.927124),\n",
       " (0.23471938493424072, 0.13903809),\n",
       " (0.8786528608733062, 0.5592041),\n",
       " (0.1781804696464354, 0.48168945),\n",
       " (0.8129077078323119, 0.6628418),\n",
       " (0.37342390107388734, 0.5467529),\n",
       " (0.42738790139074956, 0.45788574),\n",
       " (0.25994366651980416, 0.6796875),\n",
       " (0.1053045366035249, 0.3166504),\n",
       " (0.6140446167928271, 0.55566406),\n",
       " (0.39015657507692414, 0.53271484),\n",
       " (0.7708544261525668, 0.7122803),\n",
       " (0.35352333102038114, 0.25915527),\n",
       " (0.8636345775788203, 0.68530273),\n",
       " (0.6578568835592381, 0.7680664),\n",
       " (0.48268835752022854, 0.40734863),\n",
       " (0.1193632008625023, 0.3305664),\n",
       " (0.5849456602632519, 0.83361816),\n",
       " (0.08433945669624388, 0.092163086),\n",
       " (0.68075265332623, 0.6801758),\n",
       " (0.7554495787173637, 0.57788086),\n",
       " (0.929904474149097, 0.9206543),\n",
       " (0.5669380959306892, 0.47460938),\n",
       " (0.8338307680574283, 0.7114258),\n",
       " (0.6350241611777219, 0.6828613),\n",
       " (0.2772661811552384, 0.26086426),\n",
       " (0.48478503218221625, 0.6270752),\n",
       " (0.33999553033597063, 0.32385254),\n",
       " (0.5858414039726711, 0.5123291),\n",
       " (0.5623595958571446, 0.46350098),\n",
       " (0.9811639837051953, 0.65734863),\n",
       " (0.40205768980497025, 0.3395996),\n",
       " (0.7190362393044226, 0.54016113),\n",
       " (0.7289491567192258, 0.5708008),\n",
       " (0.9498526200606717, 0.69299316),\n",
       " (0.43448218320794463, 0.63061523),\n",
       " (0.5078614032971787, 0.60424805),\n",
       " (0.8990648874681509, 0.65405273),\n",
       " (0.7649681942995961, 0.73620605),\n",
       " (0.039711974108326165, -0.040161133),\n",
       " (0.8643155560669282, 0.6300049),\n",
       " (0.41251911492994886, 0.4078369),\n",
       " (0.39585895712472485, 0.66467285)]"
      ]
     },
     "execution_count": 52,
     "metadata": {},
     "output_type": "execute_result"
    }
   ],
   "source": [
    "print(\"actual, predictied\")\n",
    "yy = reg_lin.predict(X)\n",
    "list(zip(y, yy))"
   ]
  },
  {
   "cell_type": "code",
   "execution_count": null,
   "id": "35ab102c",
   "metadata": {},
   "outputs": [],
   "source": []
  }
 ],
 "metadata": {
  "kernelspec": {
   "display_name": "Python 3",
   "language": "python",
   "name": "python3"
  },
  "language_info": {
   "codemirror_mode": {
    "name": "ipython",
    "version": 3
   },
   "file_extension": ".py",
   "mimetype": "text/x-python",
   "name": "python",
   "nbconvert_exporter": "python",
   "pygments_lexer": "ipython3",
   "version": "3.7.10"
  }
 },
 "nbformat": 4,
 "nbformat_minor": 5
}
