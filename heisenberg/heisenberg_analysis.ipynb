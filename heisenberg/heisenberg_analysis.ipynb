{
 "cells": [
  {
   "cell_type": "code",
   "execution_count": 1,
   "id": "bd9a89f5",
   "metadata": {},
   "outputs": [
    {
     "name": "stderr",
     "output_type": "stream",
     "text": [
      "/home/maiyuren/anaconda3/envs/quantum_computing/lib/python3.7/site-packages/qiskit/validation/fields/custom.py:76: DeprecationWarning: `np.float` is a deprecated alias for the builtin `float`. To silence this warning, use `float` by itself. Doing this will not modify any behavior and is safe. If you specifically wanted the numpy scalar type, use `np.float64` here.\n",
      "Deprecated in NumPy 1.20; for more details and guidance: https://numpy.org/devdocs/release/1.20.0-notes.html#deprecations\n",
      "  numpy.integer, numpy.float,\n"
     ]
    },
    {
     "name": "stdout",
     "output_type": "stream",
     "text": [
      "Taking 5 qubits\n",
      "No such device.\n",
      "Availability of gpu: False\n"
     ]
    }
   ],
   "source": [
    "import matplotlib.pyplot as plt\n",
    "import pickle\n",
    "import pandas as pd\n",
    "import numpy as np\n",
    "from heisenberg_hqa import run_heisenberg_hqa_from_datafile, datafile_to_dataframe, test_hqa\n",
    "import seaborn as sns"
   ]
  },
  {
   "cell_type": "markdown",
   "id": "0b531c0e",
   "metadata": {},
   "source": [
    "### Load Data"
   ]
  },
  {
   "cell_type": "code",
   "execution_count": 2,
   "id": "74395b31",
   "metadata": {},
   "outputs": [],
   "source": [
    "# Loading data\n",
    "data = datafile_to_dataframe(\"state_files/data_n_qubits-6.pkl\")\n",
    "data\n",
    "distributions = np.array(data.statevector.to_list())\n",
    "characteristics = np.array([[j]+ i for i, j in zip(data.Jlist.tolist(), data.depth.tolist())])"
   ]
  },
  {
   "cell_type": "markdown",
   "id": "3e020280",
   "metadata": {},
   "source": [
    "## Train model"
   ]
  },
  {
   "cell_type": "code",
   "execution_count": 2,
   "id": "a22834b1",
   "metadata": {
    "collapsed": true
   },
   "outputs": [
    {
     "name": "stdout",
     "output_type": "stream",
     "text": [
      "Training started:\n",
      "-----iteration 0--model:HQA(\n",
      "  (c_decoder_layer1): Linear(in_features=7, out_features=14, bias=True)\n",
      "  (c_decoder_layer_out): Linear(in_features=14, out_features=7, bias=True)\n",
      "  (c_layer1): Linear(in_features=7, out_features=120, bias=True)\n",
      "  (c_layer2): Linear(in_features=120, out_features=75, bias=True)\n",
      "  (c_out): Linear(in_features=75, out_features=25, bias=True)\n",
      ")------\n",
      "Loss tensor(1.9761, dtype=torch.float64, grad_fn=<AddBackward0>)\n",
      "-----iteration 1--model:HQA(\n",
      "  (c_decoder_layer1): Linear(in_features=7, out_features=14, bias=True)\n",
      "  (c_decoder_layer_out): Linear(in_features=14, out_features=7, bias=True)\n",
      "  (c_layer1): Linear(in_features=7, out_features=120, bias=True)\n",
      "  (c_layer2): Linear(in_features=120, out_features=75, bias=True)\n",
      "  (c_out): Linear(in_features=75, out_features=25, bias=True)\n",
      ")------\n",
      "Loss tensor(1.8250, dtype=torch.float64, grad_fn=<AddBackward0>)\n",
      "-----iteration 2--model:HQA(\n",
      "  (c_decoder_layer1): Linear(in_features=7, out_features=14, bias=True)\n",
      "  (c_decoder_layer_out): Linear(in_features=14, out_features=7, bias=True)\n",
      "  (c_layer1): Linear(in_features=7, out_features=120, bias=True)\n",
      "  (c_layer2): Linear(in_features=120, out_features=75, bias=True)\n",
      "  (c_out): Linear(in_features=75, out_features=25, bias=True)\n",
      ")------\n",
      "Loss tensor(0.9020, dtype=torch.float64, grad_fn=<AddBackward0>)\n",
      "-----iteration 3--model:HQA(\n",
      "  (c_decoder_layer1): Linear(in_features=7, out_features=14, bias=True)\n",
      "  (c_decoder_layer_out): Linear(in_features=14, out_features=7, bias=True)\n",
      "  (c_layer1): Linear(in_features=7, out_features=120, bias=True)\n",
      "  (c_layer2): Linear(in_features=120, out_features=75, bias=True)\n",
      "  (c_out): Linear(in_features=75, out_features=25, bias=True)\n",
      ")------\n",
      "Loss tensor(0.2460, dtype=torch.float64, grad_fn=<AddBackward0>)\n",
      "-----iteration 4--model:HQA(\n",
      "  (c_decoder_layer1): Linear(in_features=7, out_features=14, bias=True)\n",
      "  (c_decoder_layer_out): Linear(in_features=14, out_features=7, bias=True)\n",
      "  (c_layer1): Linear(in_features=7, out_features=120, bias=True)\n",
      "  (c_layer2): Linear(in_features=120, out_features=75, bias=True)\n",
      "  (c_out): Linear(in_features=75, out_features=25, bias=True)\n",
      ")------\n",
      "Loss tensor(0.0867, dtype=torch.float64, grad_fn=<AddBackward0>)\n",
      "-----iteration 5--model:HQA(\n",
      "  (c_decoder_layer1): Linear(in_features=7, out_features=14, bias=True)\n",
      "  (c_decoder_layer_out): Linear(in_features=14, out_features=7, bias=True)\n",
      "  (c_layer1): Linear(in_features=7, out_features=120, bias=True)\n",
      "  (c_layer2): Linear(in_features=120, out_features=75, bias=True)\n",
      "  (c_out): Linear(in_features=75, out_features=25, bias=True)\n",
      ")------\n",
      "Loss tensor(1.3142, dtype=torch.float64, grad_fn=<AddBackward0>)\n",
      "-----iteration 6--model:HQA(\n",
      "  (c_decoder_layer1): Linear(in_features=7, out_features=14, bias=True)\n",
      "  (c_decoder_layer_out): Linear(in_features=14, out_features=7, bias=True)\n",
      "  (c_layer1): Linear(in_features=7, out_features=120, bias=True)\n",
      "  (c_layer2): Linear(in_features=120, out_features=75, bias=True)\n",
      "  (c_out): Linear(in_features=75, out_features=25, bias=True)\n",
      ")------\n",
      "Loss tensor(0.0720, dtype=torch.float64, grad_fn=<AddBackward0>)\n",
      "-----iteration 7--model:HQA(\n",
      "  (c_decoder_layer1): Linear(in_features=7, out_features=14, bias=True)\n",
      "  (c_decoder_layer_out): Linear(in_features=14, out_features=7, bias=True)\n",
      "  (c_layer1): Linear(in_features=7, out_features=120, bias=True)\n",
      "  (c_layer2): Linear(in_features=120, out_features=75, bias=True)\n",
      "  (c_out): Linear(in_features=75, out_features=25, bias=True)\n",
      ")------\n",
      "Loss tensor(0.0508, dtype=torch.float64, grad_fn=<AddBackward0>)\n",
      "-----iteration 8--model:HQA(\n",
      "  (c_decoder_layer1): Linear(in_features=7, out_features=14, bias=True)\n",
      "  (c_decoder_layer_out): Linear(in_features=14, out_features=7, bias=True)\n",
      "  (c_layer1): Linear(in_features=7, out_features=120, bias=True)\n",
      "  (c_layer2): Linear(in_features=120, out_features=75, bias=True)\n",
      "  (c_out): Linear(in_features=75, out_features=25, bias=True)\n",
      ")------\n",
      "Loss tensor(0.0768, dtype=torch.float64, grad_fn=<AddBackward0>)\n",
      "-----iteration 9--model:HQA(\n",
      "  (c_decoder_layer1): Linear(in_features=7, out_features=14, bias=True)\n",
      "  (c_decoder_layer_out): Linear(in_features=14, out_features=7, bias=True)\n",
      "  (c_layer1): Linear(in_features=7, out_features=120, bias=True)\n",
      "  (c_layer2): Linear(in_features=120, out_features=75, bias=True)\n",
      "  (c_out): Linear(in_features=75, out_features=25, bias=True)\n",
      ")------\n",
      "Loss tensor(0.5024, dtype=torch.float64, grad_fn=<AddBackward0>)\n",
      "-----iteration 10--model:HQA(\n",
      "  (c_decoder_layer1): Linear(in_features=7, out_features=14, bias=True)\n",
      "  (c_decoder_layer_out): Linear(in_features=14, out_features=7, bias=True)\n",
      "  (c_layer1): Linear(in_features=7, out_features=120, bias=True)\n",
      "  (c_layer2): Linear(in_features=120, out_features=75, bias=True)\n",
      "  (c_out): Linear(in_features=75, out_features=25, bias=True)\n",
      ")------\n",
      "Loss tensor(0.6593, dtype=torch.float64, grad_fn=<AddBackward0>)\n",
      "-----iteration 11--model:HQA(\n",
      "  (c_decoder_layer1): Linear(in_features=7, out_features=14, bias=True)\n",
      "  (c_decoder_layer_out): Linear(in_features=14, out_features=7, bias=True)\n",
      "  (c_layer1): Linear(in_features=7, out_features=120, bias=True)\n",
      "  (c_layer2): Linear(in_features=120, out_features=75, bias=True)\n",
      "  (c_out): Linear(in_features=75, out_features=25, bias=True)\n",
      ")------\n",
      "Loss tensor(0.0957, dtype=torch.float64, grad_fn=<AddBackward0>)\n"
     ]
    },
    {
     "ename": "KeyboardInterrupt",
     "evalue": "",
     "output_type": "error",
     "traceback": [
      "\u001b[0;31m---------------------------------------------------------------------------\u001b[0m",
      "\u001b[0;31mKeyboardInterrupt\u001b[0m                         Traceback (most recent call last)",
      "\u001b[0;32m<ipython-input-2-5769e5097dd3>\u001b[0m in \u001b[0;36m<module>\u001b[0;34m\u001b[0m\n\u001b[0;32m----> 1\u001b[0;31m \u001b[0mmodel\u001b[0m \u001b[0;34m=\u001b[0m \u001b[0mrun_heisenberg_hqa_from_datafile\u001b[0m\u001b[0;34m(\u001b[0m\u001b[0;34m\"data.pkl\"\u001b[0m\u001b[0;34m)\u001b[0m\u001b[0;34m\u001b[0m\u001b[0;34m\u001b[0m\u001b[0m\n\u001b[0m",
      "\u001b[0;32m/mnt/c/Users/maiyu/PycharmProjects/quantum_computing/Hybrid-Quantum-Autoencoder/heisenberg/heisenberg_hqa.py\u001b[0m in \u001b[0;36mrun_heisenberg_hqa_from_datafile\u001b[0;34m(filename)\u001b[0m\n\u001b[1;32m     64\u001b[0m \u001b[0;34m\u001b[0m\u001b[0m\n\u001b[1;32m     65\u001b[0m     \u001b[0mn_qubits\u001b[0m \u001b[0;34m=\u001b[0m \u001b[0mint\u001b[0m\u001b[0;34m(\u001b[0m\u001b[0mnp\u001b[0m\u001b[0;34m.\u001b[0m\u001b[0mlog2\u001b[0m\u001b[0;34m(\u001b[0m\u001b[0mlen\u001b[0m\u001b[0;34m(\u001b[0m\u001b[0mdistributions\u001b[0m\u001b[0;34m[\u001b[0m\u001b[0;36m0\u001b[0m\u001b[0;34m]\u001b[0m\u001b[0;34m)\u001b[0m\u001b[0;34m)\u001b[0m\u001b[0;34m)\u001b[0m\u001b[0;34m\u001b[0m\u001b[0;34m\u001b[0m\u001b[0m\n\u001b[0;32m---> 66\u001b[0;31m     \u001b[0;32mreturn\u001b[0m \u001b[0mheisenberg_hqa_script\u001b[0m\u001b[0;34m(\u001b[0m\u001b[0mn_qubits\u001b[0m\u001b[0;34m,\u001b[0m \u001b[0mdistributions\u001b[0m\u001b[0;34m)\u001b[0m\u001b[0;34m\u001b[0m\u001b[0;34m\u001b[0m\u001b[0m\n\u001b[0m\u001b[1;32m     67\u001b[0m \u001b[0;34m\u001b[0m\u001b[0m\n\u001b[1;32m     68\u001b[0m \u001b[0;34m\u001b[0m\u001b[0m\n",
      "\u001b[0;32m/mnt/c/Users/maiyu/PycharmProjects/quantum_computing/Hybrid-Quantum-Autoencoder/heisenberg/heisenberg_hqa.py\u001b[0m in \u001b[0;36mheisenberg_hqa_script\u001b[0;34m(n_qubits, distributions)\u001b[0m\n\u001b[1;32m     24\u001b[0m \u001b[0;34m\u001b[0m\u001b[0m\n\u001b[1;32m     25\u001b[0m     model, loss_evol = train_hqa(model, distributions, num_iterations, batch_size=batch_size, \n\u001b[0;32m---> 26\u001b[0;31m                                   regular_term=regular_term)\n\u001b[0m\u001b[1;32m     27\u001b[0m \u001b[0;34m\u001b[0m\u001b[0m\n\u001b[1;32m     28\u001b[0m     \u001b[0mmodel\u001b[0m\u001b[0;34m.\u001b[0m\u001b[0msave\u001b[0m\u001b[0;34m(\u001b[0m\u001b[0mloss_evol\u001b[0m\u001b[0;34m)\u001b[0m\u001b[0;34m\u001b[0m\u001b[0;34m\u001b[0m\u001b[0m\n",
      "\u001b[0;32m/mnt/c/Users/maiyu/PycharmProjects/quantum_computing/Hybrid-Quantum-Autoencoder/HQA.py\u001b[0m in \u001b[0;36mtrain_hqa\u001b[0;34m(model, distributions, num_iterations, loss_evol, batch_size, regular_term)\u001b[0m\n\u001b[1;32m    450\u001b[0m             \u001b[0mprint\u001b[0m\u001b[0;34m(\u001b[0m\u001b[0;34m\"Loss\"\u001b[0m\u001b[0;34m,\u001b[0m \u001b[0mloss\u001b[0m\u001b[0;34m)\u001b[0m\u001b[0;34m\u001b[0m\u001b[0;34m\u001b[0m\u001b[0m\n\u001b[1;32m    451\u001b[0m             \u001b[0mloss_evol\u001b[0m\u001b[0;34m.\u001b[0m\u001b[0mappend\u001b[0m\u001b[0;34m(\u001b[0m\u001b[0mloss\u001b[0m\u001b[0;34m)\u001b[0m\u001b[0;34m\u001b[0m\u001b[0;34m\u001b[0m\u001b[0m\n\u001b[0;32m--> 452\u001b[0;31m             \u001b[0mloss\u001b[0m\u001b[0;34m.\u001b[0m\u001b[0mbackward\u001b[0m\u001b[0;34m(\u001b[0m\u001b[0;34m)\u001b[0m\u001b[0;34m\u001b[0m\u001b[0;34m\u001b[0m\u001b[0m\n\u001b[0m\u001b[1;32m    453\u001b[0m             \u001b[0moptimizer\u001b[0m\u001b[0;34m.\u001b[0m\u001b[0mstep\u001b[0m\u001b[0;34m(\u001b[0m\u001b[0;34m)\u001b[0m\u001b[0;34m\u001b[0m\u001b[0;34m\u001b[0m\u001b[0m\n\u001b[1;32m    454\u001b[0m \u001b[0;34m\u001b[0m\u001b[0m\n",
      "\u001b[0;32m~/anaconda3/envs/quantum_computing/lib/python3.7/site-packages/torch/tensor.py\u001b[0m in \u001b[0;36mbackward\u001b[0;34m(self, gradient, retain_graph, create_graph)\u001b[0m\n\u001b[1;32m    193\u001b[0m                 \u001b[0mproducts\u001b[0m\u001b[0;34m.\u001b[0m \u001b[0mDefaults\u001b[0m \u001b[0mto\u001b[0m\u001b[0;31m \u001b[0m\u001b[0;31m`\u001b[0m\u001b[0;31m`\u001b[0m\u001b[0;32mFalse\u001b[0m\u001b[0;31m`\u001b[0m\u001b[0;31m`\u001b[0m\u001b[0;34m.\u001b[0m\u001b[0;34m\u001b[0m\u001b[0;34m\u001b[0m\u001b[0m\n\u001b[1;32m    194\u001b[0m         \"\"\"\n\u001b[0;32m--> 195\u001b[0;31m         \u001b[0mtorch\u001b[0m\u001b[0;34m.\u001b[0m\u001b[0mautograd\u001b[0m\u001b[0;34m.\u001b[0m\u001b[0mbackward\u001b[0m\u001b[0;34m(\u001b[0m\u001b[0mself\u001b[0m\u001b[0;34m,\u001b[0m \u001b[0mgradient\u001b[0m\u001b[0;34m,\u001b[0m \u001b[0mretain_graph\u001b[0m\u001b[0;34m,\u001b[0m \u001b[0mcreate_graph\u001b[0m\u001b[0;34m)\u001b[0m\u001b[0;34m\u001b[0m\u001b[0;34m\u001b[0m\u001b[0m\n\u001b[0m\u001b[1;32m    196\u001b[0m \u001b[0;34m\u001b[0m\u001b[0m\n\u001b[1;32m    197\u001b[0m     \u001b[0;32mdef\u001b[0m \u001b[0mregister_hook\u001b[0m\u001b[0;34m(\u001b[0m\u001b[0mself\u001b[0m\u001b[0;34m,\u001b[0m \u001b[0mhook\u001b[0m\u001b[0;34m)\u001b[0m\u001b[0;34m:\u001b[0m\u001b[0;34m\u001b[0m\u001b[0;34m\u001b[0m\u001b[0m\n",
      "\u001b[0;32m~/anaconda3/envs/quantum_computing/lib/python3.7/site-packages/torch/autograd/__init__.py\u001b[0m in \u001b[0;36mbackward\u001b[0;34m(tensors, grad_tensors, retain_graph, create_graph, grad_variables)\u001b[0m\n\u001b[1;32m     97\u001b[0m     Variable._execution_engine.run_backward(\n\u001b[1;32m     98\u001b[0m         \u001b[0mtensors\u001b[0m\u001b[0;34m,\u001b[0m \u001b[0mgrad_tensors\u001b[0m\u001b[0;34m,\u001b[0m \u001b[0mretain_graph\u001b[0m\u001b[0;34m,\u001b[0m \u001b[0mcreate_graph\u001b[0m\u001b[0;34m,\u001b[0m\u001b[0;34m\u001b[0m\u001b[0;34m\u001b[0m\u001b[0m\n\u001b[0;32m---> 99\u001b[0;31m         allow_unreachable=True)  # allow_unreachable flag\n\u001b[0m\u001b[1;32m    100\u001b[0m \u001b[0;34m\u001b[0m\u001b[0m\n\u001b[1;32m    101\u001b[0m \u001b[0;34m\u001b[0m\u001b[0m\n",
      "\u001b[0;31mKeyboardInterrupt\u001b[0m: "
     ]
    }
   ],
   "source": [
    "model = run_heisenberg_hqa_from_datafile(\"data.pkl\")"
   ]
  },
  {
   "cell_type": "markdown",
   "id": "d37e10d5",
   "metadata": {},
   "source": [
    "## Load model"
   ]
  },
  {
   "cell_type": "code",
   "execution_count": 3,
   "id": "f15b7a40",
   "metadata": {},
   "outputs": [],
   "source": [
    "filename = \"pickled_models/hqa_model_ver_0.pickle\"\n",
    "with open(filename, \"rb\") as f:\n",
    "    model = pickle.load(f)\n",
    "model.reset_q_circs()"
   ]
  },
  {
   "cell_type": "markdown",
   "id": "4f38105e",
   "metadata": {},
   "source": [
    "# Analysis"
   ]
  },
  {
   "cell_type": "code",
   "execution_count": 4,
   "id": "9cae1fd5",
   "metadata": {},
   "outputs": [
    {
     "name": "stderr",
     "output_type": "stream",
     "text": [
      "100%|██████████| 50/50 [00:06<00:00,  8.26it/s]"
     ]
    },
    {
     "name": "stdout",
     "output_type": "stream",
     "text": [
      "Average Loss: 0.00446564604640953\n"
     ]
    },
    {
     "name": "stderr",
     "output_type": "stream",
     "text": [
      "\n"
     ]
    }
   ],
   "source": [
    "# Testing the HQA\n",
    "test_results = test_hqa(model, 50, distributions)"
   ]
  },
  {
   "cell_type": "code",
   "execution_count": 10,
   "id": "bb75c22d",
   "metadata": {
    "scrolled": true
   },
   "outputs": [
    {
     "name": "stderr",
     "output_type": "stream",
     "text": [
      "100it [00:04, 20.43it/s]"
     ]
    },
    {
     "name": "stdout",
     "output_type": "stream",
     "text": [
      "Variance explained by each principal component:\n",
      "[95.5350954211221, 3.7099834398216207, 0.6823797179354264, 0.06949806426061034, 0.0019713256834452374, 0.0009823470132447523, 1.2050133798921329e-05, 7.763402975875167e-05]\n",
      "\n"
     ]
    },
    {
     "name": "stderr",
     "output_type": "stream",
     "text": [
      "\n"
     ]
    }
   ],
   "source": [
    "# Creating the vectors\n",
    "model.create_latent_vectors(distributions, characteristics)\n",
    "model.pca_transform_latent_vectors(3, True)\n",
    "model.dataframe_latent_points('heisenberg')\n",
    "model.latent_landscape(0,1)"
   ]
  },
  {
   "cell_type": "code",
   "execution_count": 15,
   "id": "9bd2156f",
   "metadata": {},
   "outputs": [
    {
     "data": {
      "image/png": "[encoded data removed]",
      "text/plain": [
       "<Figure size 864x360 with 2 Axes>"
      ]
     },
     "metadata": {
      "needs_background": "light"
     },
     "output_type": "display_data"
    }
   ],
   "source": [
    "fig, axs = plt.subplots(1,2, figsize=(12,5))\n",
    "ax = sns.scatterplot(x=\"p1\", y=\"p2\", hue='c6', data=model.df_latent_vectors, ax=axs[0])\n",
    "ax = sns.scatterplot(x=\"p1\", y=\"p2\", hue='c1', data=model.df_latent_vectors, ax=axs[1])"
   ]
  },
  {
   "cell_type": "code",
   "execution_count": 36,
   "id": "790b85e7",
   "metadata": {},
   "outputs": [
    {
     "data": {
      "text/html": [
       "<div>\n",
       "<style scoped>\n",
       "    .dataframe tbody tr th:only-of-type {\n",
       "        vertical-align: middle;\n",
       "    }\n",
       "\n",
       "    .dataframe tbody tr th {\n",
       "        vertical-align: top;\n",
       "    }\n",
       "\n",
       "    .dataframe thead th {\n",
       "        text-align: right;\n",
       "    }\n",
       "</style>\n",
       "<table border=\"1\" class=\"dataframe\">\n",
       "  <thead>\n",
       "    <tr style=\"text-align: right;\">\n",
       "      <th></th>\n",
       "      <th>depth</th>\n",
       "      <th>ham_indx</th>\n",
       "      <th>latent_vector</th>\n",
       "      <th>p1</th>\n",
       "      <th>p2</th>\n",
       "    </tr>\n",
       "  </thead>\n",
       "  <tbody>\n",
       "    <tr>\n",
       "      <th>0</th>\n",
       "      <td>1.0</td>\n",
       "      <td>0.52961</td>\n",
       "      <td>[-1.9222362, 0.01785163, -0.0006903503]</td>\n",
       "      <td>-1.922236</td>\n",
       "      <td>0.017852</td>\n",
       "    </tr>\n",
       "    <tr>\n",
       "      <th>1</th>\n",
       "      <td>2.0</td>\n",
       "      <td>0.52961</td>\n",
       "      <td>[-1.9054637, 0.01621604, -0.00043154572]</td>\n",
       "      <td>-1.905464</td>\n",
       "      <td>0.016216</td>\n",
       "    </tr>\n",
       "    <tr>\n",
       "      <th>2</th>\n",
       "      <td>3.0</td>\n",
       "      <td>0.52961</td>\n",
       "      <td>[-1.9054644, 0.016216172, -0.00043173207]</td>\n",
       "      <td>-1.905464</td>\n",
       "      <td>0.016216</td>\n",
       "    </tr>\n",
       "    <tr>\n",
       "      <th>3</th>\n",
       "      <td>4.0</td>\n",
       "      <td>0.52961</td>\n",
       "      <td>[-1.9054565, 0.016215526, -0.00043136193]</td>\n",
       "      <td>-1.905457</td>\n",
       "      <td>0.016216</td>\n",
       "    </tr>\n",
       "    <tr>\n",
       "      <th>4</th>\n",
       "      <td>5.0</td>\n",
       "      <td>0.52961</td>\n",
       "      <td>[-1.9054573, 0.016215445, -0.0004314605]</td>\n",
       "      <td>-1.905457</td>\n",
       "      <td>0.016215</td>\n",
       "    </tr>\n",
       "    <tr>\n",
       "      <th>...</th>\n",
       "      <td>...</td>\n",
       "      <td>...</td>\n",
       "      <td>...</td>\n",
       "      <td>...</td>\n",
       "      <td>...</td>\n",
       "    </tr>\n",
       "    <tr>\n",
       "      <th>95</th>\n",
       "      <td>1.0</td>\n",
       "      <td>0.42629</td>\n",
       "      <td>[2.043962, 0.012561013, 0.0016336389]</td>\n",
       "      <td>2.043962</td>\n",
       "      <td>0.012561</td>\n",
       "    </tr>\n",
       "    <tr>\n",
       "      <th>96</th>\n",
       "      <td>2.0</td>\n",
       "      <td>0.42629</td>\n",
       "      <td>[1.8132207, 0.009912527, -0.001588899]</td>\n",
       "      <td>1.813221</td>\n",
       "      <td>0.009913</td>\n",
       "    </tr>\n",
       "    <tr>\n",
       "      <th>97</th>\n",
       "      <td>3.0</td>\n",
       "      <td>0.42629</td>\n",
       "      <td>[1.8132176, 0.009912379, -0.001589098]</td>\n",
       "      <td>1.813218</td>\n",
       "      <td>0.009912</td>\n",
       "    </tr>\n",
       "    <tr>\n",
       "      <th>98</th>\n",
       "      <td>4.0</td>\n",
       "      <td>0.42629</td>\n",
       "      <td>[1.8132205, 0.009912504, -0.0015888693]</td>\n",
       "      <td>1.813221</td>\n",
       "      <td>0.009913</td>\n",
       "    </tr>\n",
       "    <tr>\n",
       "      <th>99</th>\n",
       "      <td>5.0</td>\n",
       "      <td>0.42629</td>\n",
       "      <td>[1.8132159, 0.009912551, -0.0015889468]</td>\n",
       "      <td>1.813216</td>\n",
       "      <td>0.009913</td>\n",
       "    </tr>\n",
       "  </tbody>\n",
       "</table>\n",
       "<p>100 rows × 5 columns</p>\n",
       "</div>"
      ],
      "text/plain": [
       "    depth  ham_indx                              latent_vector        p1  \\\n",
       "0     1.0   0.52961    [-1.9222362, 0.01785163, -0.0006903503] -1.922236   \n",
       "1     2.0   0.52961   [-1.9054637, 0.01621604, -0.00043154572] -1.905464   \n",
       "2     3.0   0.52961  [-1.9054644, 0.016216172, -0.00043173207] -1.905464   \n",
       "3     4.0   0.52961  [-1.9054565, 0.016215526, -0.00043136193] -1.905457   \n",
       "4     5.0   0.52961   [-1.9054573, 0.016215445, -0.0004314605] -1.905457   \n",
       "..    ...       ...                                        ...       ...   \n",
       "95    1.0   0.42629      [2.043962, 0.012561013, 0.0016336389]  2.043962   \n",
       "96    2.0   0.42629     [1.8132207, 0.009912527, -0.001588899]  1.813221   \n",
       "97    3.0   0.42629     [1.8132176, 0.009912379, -0.001589098]  1.813218   \n",
       "98    4.0   0.42629    [1.8132205, 0.009912504, -0.0015888693]  1.813221   \n",
       "99    5.0   0.42629    [1.8132159, 0.009912551, -0.0015889468]  1.813216   \n",
       "\n",
       "          p2  \n",
       "0   0.017852  \n",
       "1   0.016216  \n",
       "2   0.016216  \n",
       "3   0.016216  \n",
       "4   0.016215  \n",
       "..       ...  \n",
       "95  0.012561  \n",
       "96  0.009913  \n",
       "97  0.009912  \n",
       "98  0.009913  \n",
       "99  0.009913  \n",
       "\n",
       "[100 rows x 5 columns]"
      ]
     },
     "execution_count": 36,
     "metadata": {},
     "output_type": "execute_result"
    }
   ],
   "source": [
    "model.df_latent_vectors"
   ]
  }
 ],
 "metadata": {
  "kernelspec": {
   "display_name": "Python 3",
   "language": "python",
   "name": "python3"
  },
  "language_info": {
   "codemirror_mode": {
    "name": "ipython",
    "version": 3
   },
   "file_extension": ".py",
   "mimetype": "text/x-python",
   "name": "python",
   "nbconvert_exporter": "python",
   "pygments_lexer": "ipython3",
   "version": "3.7.10"
  }
 },
 "nbformat": 4,
 "nbformat_minor": 5
}
